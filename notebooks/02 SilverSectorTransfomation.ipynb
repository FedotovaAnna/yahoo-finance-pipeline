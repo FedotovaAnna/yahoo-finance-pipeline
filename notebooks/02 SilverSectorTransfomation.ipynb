{
 "cells": [
  {
   "cell_type": "code",
   "execution_count": 0,
   "metadata": {
    "application/vnd.databricks.v1+cell": {
     "cellMetadata": {
      "byteLimit": 2048000,
      "rowLimit": 10000
     },
     "inputWidgets": {},
     "nuid": "e513fa19-36fb-4e5d-9878-362723bd277b",
     "showTitle": false,
     "tableResultSettingsMap": {},
     "title": ""
    }
   },
   "outputs": [
    {
     "output_type": "stream",
     "name": "stdout",
     "output_type": "stream",
     "text": [
      "\n📄 Лог трансформації silver оновлен.\n"
     ]
    },
    {
     "output_type": "display_data",
     "data": {
      "text/html": [
       "<style scoped>\n",
       "  .table-result-container {\n",
       "    max-height: 300px;\n",
       "    overflow: auto;\n",
       "  }\n",
       "  table, th, td {\n",
       "    border: 1px solid black;\n",
       "    border-collapse: collapse;\n",
       "  }\n",
       "  th, td {\n",
       "    padding: 5px;\n",
       "  }\n",
       "  th {\n",
       "    text-align: left;\n",
       "  }\n",
       "</style><div class='table-result-container'><table class='table-result'><thead style='background-color: white'><tr><th>date</th><th>Open</th><th>High</th><th>Low</th><th>Close</th><th>Volume</th><th>Dividends</th><th>Stock_Splits</th><th>Ticker</th><th>Sector</th></tr></thead><tbody><tr><td>2024-08-05</td><td>198.16324716744046</td><td>212.506173331003</td><td>195.0876345333798</td><td>208.29586791992188</td><td>119548600</td><td>0.0</td><td>0.0</td><td>AAPL</td><td>Technology</td></tr><tr><td>2025-01-21</td><td>223.46094530610958</td><td>223.87993275191027</td><td>218.85206818023312</td><td>222.10421752929688</td><td>98070400</td><td>0.0</td><td>0.0</td><td>AAPL</td><td>Technology</td></tr><tr><td>2024-08-21</td><td>225.7265541171402</td><td>227.18143154067607</td><td>224.26170199000447</td><td>225.60696411132812</td><td>34765500</td><td>0.0</td><td>0.0</td><td>AAPL</td><td>Technology</td></tr><tr><td>2024-10-17</td><td>232.6123377292532</td><td>233.0308799404877</td><td>229.71254238803704</td><td>231.33682250976562</td><td>32993800</td><td>0.0</td><td>0.0</td><td>AAPL</td><td>Technology</td></tr><tr><td>2025-03-18</td><td>213.87952928252258</td><td>214.8682229774316</td><td>211.21302787332291</td><td>212.4114532470703</td><td>42432400</td><td>0.0</td><td>0.0</td><td>AAPL</td><td>Technology</td></tr><tr><td>2025-04-02</td><td>221.03016017035932</td><td>224.89508702876748</td><td>220.73055001137135</td><td>223.59678649902344</td><td>35905900</td><td>0.0</td><td>0.0</td><td>AAPL</td><td>Technology</td></tr><tr><td>2024-08-30</td><td>229.38369482859366</td><td>229.59295072736154</td><td>226.68318070354871</td><td>228.19786071777344</td><td>52990800</td><td>0.0</td><td>0.0</td><td>AAPL</td><td>Technology</td></tr><tr><td>2024-10-04</td><td>227.1017072618697</td><td>227.20136306464835</td><td>223.3449237414969</td><td>226.0055694580078</td><td>37245100</td><td>0.0</td><td>0.0</td><td>AAPL</td><td>Technology</td></tr><tr><td>2025-02-12</td><td>230.89721134547665</td><td>236.64967765066982</td><td>230.377888084301</td><td>236.55978393554688</td><td>45243300</td><td>0.0</td><td>0.0</td><td>AAPL</td><td>Technology</td></tr><tr><td>2024-06-04</td><td>193.7339558758535</td><td>194.41079839334418</td><td>192.13144977133211</td><td>193.4453125</td><td>47471400</td><td>0.0</td><td>0.0</td><td>AAPL</td><td>Technology</td></tr></tbody></table></div>"
      ]
     },
     "metadata": {
      "application/vnd.databricks.v1+output": {
       "addedWidgets": {},
       "aggData": [],
       "aggError": "",
       "aggOverflow": false,
       "aggSchema": [],
       "aggSeriesLimitReached": false,
       "aggType": "",
       "arguments": {},
       "columnCustomDisplayInfos": {},
       "data": [
        [
         "2024-08-05",
         198.16324716744046,
         212.506173331003,
         195.0876345333798,
         208.29586791992188,
         119548600,
         0.0,
         0.0,
         "AAPL",
         "Technology"
        ],
        [
         "2025-01-21",
         223.46094530610958,
         223.87993275191027,
         218.85206818023312,
         222.10421752929688,
         98070400,
         0.0,
         0.0,
         "AAPL",
         "Technology"
        ],
        [
         "2024-08-21",
         225.7265541171402,
         227.18143154067607,
         224.26170199000447,
         225.60696411132812,
         34765500,
         0.0,
         0.0,
         "AAPL",
         "Technology"
        ],
        [
         "2024-10-17",
         232.6123377292532,
         233.0308799404877,
         229.71254238803704,
         231.33682250976562,
         32993800,
         0.0,
         0.0,
         "AAPL",
         "Technology"
        ],
        [
         "2025-03-18",
         213.87952928252258,
         214.8682229774316,
         211.21302787332291,
         212.4114532470703,
         42432400,
         0.0,
         0.0,
         "AAPL",
         "Technology"
        ],
        [
         "2025-04-02",
         221.03016017035932,
         224.89508702876748,
         220.73055001137135,
         223.59678649902344,
         35905900,
         0.0,
         0.0,
         "AAPL",
         "Technology"
        ],
        [
         "2024-08-30",
         229.38369482859366,
         229.59295072736154,
         226.68318070354871,
         228.19786071777344,
         52990800,
         0.0,
         0.0,
         "AAPL",
         "Technology"
        ],
        [
         "2024-10-04",
         227.1017072618697,
         227.20136306464835,
         223.3449237414969,
         226.0055694580078,
         37245100,
         0.0,
         0.0,
         "AAPL",
         "Technology"
        ],
        [
         "2025-02-12",
         230.89721134547665,
         236.64967765066982,
         230.377888084301,
         236.55978393554688,
         45243300,
         0.0,
         0.0,
         "AAPL",
         "Technology"
        ],
        [
         "2024-06-04",
         193.7339558758535,
         194.41079839334418,
         192.13144977133211,
         193.4453125,
         47471400,
         0.0,
         0.0,
         "AAPL",
         "Technology"
        ]
       ],
       "datasetInfos": [],
       "dbfsResultPath": null,
       "isJsonSchema": true,
       "metadata": {},
       "overflow": false,
       "plotOptions": {
        "customPlotOptions": {},
        "displayType": "table",
        "pivotAggregation": null,
        "pivotColumns": null,
        "xColumns": null,
        "yColumns": null
       },
       "removedWidgets": [],
       "schema": [
        {
         "metadata": "{}",
         "name": "date",
         "type": "\"date\""
        },
        {
         "metadata": "{}",
         "name": "Open",
         "type": "\"double\""
        },
        {
         "metadata": "{}",
         "name": "High",
         "type": "\"double\""
        },
        {
         "metadata": "{}",
         "name": "Low",
         "type": "\"double\""
        },
        {
         "metadata": "{}",
         "name": "Close",
         "type": "\"double\""
        },
        {
         "metadata": "{}",
         "name": "Volume",
         "type": "\"long\""
        },
        {
         "metadata": "{}",
         "name": "Dividends",
         "type": "\"double\""
        },
        {
         "metadata": "{}",
         "name": "Stock_Splits",
         "type": "\"double\""
        },
        {
         "metadata": "{}",
         "name": "Ticker",
         "type": "\"string\""
        },
        {
         "metadata": "{}",
         "name": "Sector",
         "type": "\"string\""
        }
       ],
       "type": "table"
      }
     },
     "output_type": "display_data"
    }
   ],
   "source": [
    "# 02_silver_sector_transformation_with_logging.py\n",
    "\n",
    "from pyspark.sql.functions import col, to_date\n",
    "from datetime import datetime\n",
    "\n",
    "try:\n",
    "    # Читаємо всі дельта-таблиці бронз шару по тикерам\n",
    "    tickers = [\"aapl\", \"msft\", \"jpm\", \"bac\"]\n",
    "\n",
    "    bronze_dfs = []\n",
    "    for t in tickers:\n",
    "        table_name = f\"bronze_{t}\"\n",
    "        df = spark.read.format(\"delta\").table(table_name)\n",
    "        bronze_dfs.append(df)\n",
    "\n",
    "    # Об'єднання\n",
    "    bronze_df = bronze_dfs[0]\n",
    "    for df in bronze_dfs[1:]:\n",
    "        bronze_df = bronze_df.unionByName(df)\n",
    "\n",
    "    # трансформація та очистка\n",
    "    silver_df = bronze_df \\\n",
    "        .withColumnRenamed(\"Date\", \"date\") \\\n",
    "        .withColumn(\"date\", to_date(col(\"date\"))) \\\n",
    "        .dropna(subset=[\"Close\", \"Volume\"]) \\\n",
    "        .dropDuplicates([\"date\", \"Ticker\"])\n",
    "\n",
    "    # збереження  в Silver  (delta table)\n",
    "    silver_df.write.format(\"delta\").mode(\"overwrite\").saveAsTable(\"silver_sector_data\")\n",
    "\n",
    "    # лог виконання\n",
    "    log_entry = [{\n",
    "        \"step\": \"transformation\",\n",
    "        \"layer\": \"silver\",\n",
    "        \"timestamp\": datetime.now().strftime(\"%Y-%m-%d %H:%M:%S\"),\n",
    "        \"status\": \"success\",\n",
    "        \"rows_processed\": silver_df.count(),\n",
    "        \"comment\": \"поєднання та очистка данних з бронзового шару\"\n",
    "    }]\n",
    "    \n",
    "except Exception as e:\n",
    "    # якщо помилка лог  с помилкою та и нулем строки\n",
    "    log_entry = [{\n",
    "        \"step\": \"transformation\",\n",
    "        \"layer\": \"silver\",\n",
    "        \"timestamp\": datetime.now().strftime(\"%Y-%m-%d %H:%M:%S\"),\n",
    "        \"status\": f\"error: {str(e)}\",\n",
    "        \"rows_processed\": 0,\n",
    "        \"comment\": \"помилка трансформації даних бронз\"\n",
    "    }]\n",
    "    print(f\"❌ помилка трансформації silver: {e}\")\n",
    "\n",
    "finally:\n",
    "    # збереження лог в pipeline_logs, \n",
    "    log_df = spark.createDataFrame(log_entry)\n",
    "    log_df.write.format(\"delta\").mode(\"append\").saveAsTable(\"pipeline_logs\")\n",
    "    print(\"\\n📄 Лог трансформації silver оновлен.\")\n",
    "\n",
    "# результат без помилок\n",
    "if log_entry[0][\"status\"] == \"success\":\n",
    "    display(spark.table(\"silver_sector_data\").limit(10))\n"
   ]
  }
 ],
 "metadata": {
  "application/vnd.databricks.v1+notebook": {
   "computePreferences": null,
   "dashboards": [],
   "environmentMetadata": {
    "base_environment": "",
    "environment_version": "2"
   },
   "inputWidgetPreferences": null,
   "language": "python",
   "notebookMetadata": {
    "pythonIndentUnit": 4
   },
   "notebookName": "02 SilverSectorTransfomation",
   "widgets": {}
  },
  "language_info": {
   "name": "python"
  }
 },
 "nbformat": 4,
 "nbformat_minor": 0
}